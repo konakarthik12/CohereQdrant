{
 "cells": [
  {
   "cell_type": "code",
   "execution_count": 3,
   "outputs": [],
   "source": [
    "from dotenv import load_dotenv\n",
    "\n",
    "load_dotenv()\n",
    "import os\n",
    "from sentence_transformers import SentenceTransformer\n",
    "from qdrant_client import QdrantClient"
   ],
   "metadata": {
    "collapsed": false
   }
  },
  {
   "cell_type": "code",
   "execution_count": 5,
   "metadata": {
    "collapsed": true
   },
   "outputs": [
    {
     "name": "stdout",
     "output_type": "stream",
     "text": [
      "https://2e366342-0e12-4f7e-8772-cc72f8f39464.us-east-1-0.aws.cloud.qdrant.io:6333 nbpdkQEEHRK5s9K2WzznUqU5ZKyv2bCAEl9mAlleangh5UcQzsXFzA\n",
      "client loaded\n",
      "model loaded\n",
      "[{'meta': {'source': 'InhouseToAWS.md'},\n",
      "  'text': 'Global Reach: AWS has a vast global network of data centers, making '\n",
      "          'it easy for developers to deploy applications and services in '\n",
      "          'multiple regions around the world.'},\n",
      " {'meta': {'source': 'InhouseToAWS.md'},\n",
      "  'text': '# Switching from in house servers to AWS\\n'\n",
      "          '\\n'\n",
      "          \"In an effort to grow faster, we've made the decision to move to \"\n",
      "          'AWS.'},\n",
      " {'meta': {'source': 'InhouseToAWS.md'},\n",
      "  'text': 'Flexibility: AWS provides a wide range of services, including '\n",
      "          'compute, storage, and database offerings, that can be quickly and '\n",
      "          'easily integrated into applications.'},\n",
      " {'meta': {'source': 'InhouseToAWS.md'},\n",
      "  'text': 'With AWS, developers can easily scale up or down their computing '\n",
      "          'resources to meet the demands of their applications, without the '\n",
      "          'need for additional hardware.'},\n",
      " {'meta': {'source': 'InhouseToAWS.md'},\n",
      "  'text': 'High Availability: AWS provides multiple availability zones across '\n",
      "          'the globe, ensuring that applications are highly available and '\n",
      "          'accessible to users, even in the event of a data center failure.'}]\n",
      "done\n"
     ]
    }
   ],
   "source": [
    "from pprint import pprint\n",
    "\n",
    "print(os.getenv(\"QDRANT_URL\"), os.getenv(\"QDRANT_API_KEY\"))\n",
    "qdrant_client = QdrantClient(url=os.getenv(\"QDRANT_URL\"), api_key=os.getenv(\"QDRANT_API_KEY\"))\n",
    "print(\"client loaded\")\n",
    "model = SentenceTransformer('all-MiniLM-L6-v2', device='cpu')\n",
    "print(\"model loaded\")\n",
    "vector = model.encode(\"aws\").tolist()\n",
    "hits = qdrant_client.search(\n",
    "    collection_name=\"documents\",\n",
    "    query_vector=vector,\n",
    "    limit=5\n",
    ")\n",
    "pprint([hit.payload for hit in hits])\n",
    "print(\"done\")\n"
   ]
  }
 ],
 "metadata": {
  "kernelspec": {
   "display_name": "Python 3",
   "language": "python",
   "name": "python3"
  },
  "language_info": {
   "codemirror_mode": {
    "name": "ipython",
    "version": 2
   },
   "file_extension": ".py",
   "mimetype": "text/x-python",
   "name": "python",
   "nbconvert_exporter": "python",
   "pygments_lexer": "ipython2",
   "version": "2.7.6"
  }
 },
 "nbformat": 4,
 "nbformat_minor": 0
}
