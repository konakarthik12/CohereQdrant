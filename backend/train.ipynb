{
 "cells": [
  {
   "cell_type": "code",
   "execution_count": 50,
   "outputs": [
    {
     "data": {
      "text/plain": "True"
     },
     "execution_count": 50,
     "metadata": {},
     "output_type": "execute_result"
    }
   ],
   "source": [
    "import json\n",
    "import os\n",
    "from pprint import pprint\n",
    "\n",
    "import cohere\n",
    "import numpy as np\n",
    "from dotenv import load_dotenv\n",
    "from qdrant_client import QdrantClient\n",
    "from qdrant_client.models import VectorParams\n",
    "\n",
    "load_dotenv()\n"
   ],
   "metadata": {
    "collapsed": false
   }
  },
  {
   "cell_type": "markdown",
   "source": [],
   "metadata": {
    "collapsed": false
   }
  },
  {
   "cell_type": "code",
   "execution_count": 51,
   "outputs": [],
   "source": [
    "co = cohere.Client(os.getenv(\"COHERE_API_KEY\"))\n",
    "response = co.embed([\"hello\", \"goodbye\"], model='multilingual-22-12')"
   ],
   "metadata": {
    "collapsed": false
   }
  },
  {
   "cell_type": "code",
   "execution_count": 52,
   "outputs": [],
   "source": [
    "data = json.load(open('data.json'))"
   ],
   "metadata": {
    "collapsed": false
   }
  },
  {
   "cell_type": "code",
   "execution_count": 53,
   "outputs": [
    {
     "name": "stdout",
     "output_type": "stream",
     "text": [
      "242\n",
      "4 64 64\n"
     ]
    }
   ],
   "source": [
    "vectors = []\n",
    "batch_size = 64\n",
    "batch = []\n",
    "print(len(data))\n",
    "for row in data:\n",
    "    batch.append(row['text'])\n",
    "    if len(batch) >= batch_size:\n",
    "        vectors.append(co.embed(batch, model='multilingual-22-12').embeddings)  # Text -> vector encoding happens here\n",
    "        batch = []\n",
    "\n",
    "if len(batch) > 0:\n",
    "    vectors.append(co.embed(batch, model='multilingual-22-12').embeddings)\n",
    "    batch = []\n",
    "print(len(vectors), len(vectors[0]), len(vectors[1]))\n",
    "\n",
    "vectors = np.concatenate(vectors)"
   ],
   "metadata": {
    "collapsed": false
   }
  },
  {
   "cell_type": "code",
   "execution_count": 54,
   "outputs": [
    {
     "data": {
      "text/plain": "(242, 768)"
     },
     "execution_count": 54,
     "metadata": {},
     "output_type": "execute_result"
    }
   ],
   "source": [
    "vectors.shape"
   ],
   "metadata": {
    "collapsed": false
   }
  },
  {
   "cell_type": "code",
   "execution_count": 55,
   "outputs": [],
   "source": [
    "np.save('vectors.npy', vectors, allow_pickle=False)"
   ],
   "metadata": {
    "collapsed": false
   }
  },
  {
   "cell_type": "markdown",
   "source": [
    "# Upload Model"
   ],
   "metadata": {
    "collapsed": false
   }
  },
  {
   "cell_type": "code",
   "execution_count": 56,
   "outputs": [],
   "source": [
    "qdrant_client = QdrantClient(url=os.getenv(\"QDRANT_URL\"), api_key=os.getenv(\"QDRANT_API_KEY\"))\n",
    "vectors_path = os.path.join(\".\", 'vectors.npy')\n",
    "vectors = np.load(vectors_path)\n",
    "vector_size = vectors.shape[1]\n",
    "json_file = open('data.json', 'r')\n",
    "payload = json.load(json_file)\n",
    "qdrant_client.recreate_collection(\n",
    "    collection_name=\"documents\",\n",
    "    vectors_config=VectorParams(size=vector_size, distance=\"Cosine\")\n",
    ")\n",
    "\n",
    "qdrant_client.upload_collection(\n",
    "    collection_name=\"documents\",\n",
    "    vectors=vectors,\n",
    "    payload=payload,\n",
    "    ids=None,\n",
    "    batch_size=256,\n",
    "    parallel=2\n",
    ")"
   ],
   "metadata": {
    "collapsed": false
   }
  },
  {
   "cell_type": "markdown",
   "source": [
    "# Test Query\n",
    "The answer is\n",
    "  - $ 3 + 5 = 8$\n",
    "  - $ 3 + 4 = 7$\n"
   ],
   "metadata": {
    "collapsed": false
   }
  },
  {
   "cell_type": "code",
   "execution_count": 57,
   "outputs": [],
   "source": [
    "from sklearn.metrics.pairwise import cosine_similarity"
   ],
   "metadata": {
    "collapsed": false
   }
  },
  {
   "cell_type": "code",
   "execution_count": 58,
   "outputs": [
    {
     "name": "stdout",
     "output_type": "stream",
     "text": [
      "lower costs\n"
     ]
    }
   ],
   "source": [
    "# Take a random description as a query\n",
    "sample_query = \"lower costs\"\n",
    "print(sample_query)"
   ],
   "metadata": {
    "collapsed": false
   }
  },
  {
   "cell_type": "code",
   "execution_count": 59,
   "outputs": [],
   "source": [
    "query_vector = co.embed([sample_query], model='multilingual-22-12').embeddings[\n",
    "    0]  # Convert query description into a vector."
   ],
   "metadata": {
    "collapsed": false
   }
  },
  {
   "cell_type": "code",
   "execution_count": 60,
   "outputs": [
    {
     "name": "stdout",
     "output_type": "stream",
     "text": [
      "https://2e366342-0e12-4f7e-8772-cc72f8f39464.us-east-1-0.aws.cloud.qdrant.io:6333 nbpdkQEEHRK5s9K2WzznUqU5ZKyv2bCAEl9mAlleangh5UcQzsXFzA\n",
      "client loaded\n",
      "query_vector\n"
     ]
    }
   ],
   "source": [
    "# scores = cosine_similarity([query_vector], vectors)[0]  # Look for the most similar vectors, manually score all vectors\n",
    "# top_scores_ids = np.argsort(scores)[-5:][::-1]  # Select top-5 with vectors the largest scores\n",
    "print(os.getenv(\"QDRANT_URL\"), os.getenv(\"QDRANT_API_KEY\"))\n",
    "qdrant_client = QdrantClient(url=os.getenv(\"QDRANT_URL\"), api_key=os.getenv(\"QDRANT_API_KEY\"))\n",
    "print(\"client loaded\")\n",
    "query_vector = np.array(query_vector).astype(np.float64)\n",
    "print(\"query_vector\")\n",
    "hits = qdrant_client.search(\n",
    "    collection_name=\"documents\",\n",
    "    query_vector=query_vector,\n",
    "    limit=5\n",
    ")"
   ],
   "metadata": {
    "collapsed": false
   }
  },
  {
   "cell_type": "code",
   "execution_count": 61,
   "outputs": [
    {
     "name": "stdout",
     "output_type": "stream",
     "text": [
      "[{'meta': {'classification': 'memo',\n",
      "           'finished': 'finished',\n",
      "           'source': 'quarterly.md'},\n",
      "  'text': '## Response:\\n'\n",
      "          'In an effort to cut costs we’ve made the decision to reduce '\n",
      "          'headcount.'},\n",
      " {'meta': {'classification': 'proposal',\n",
      "           'finished': 'finished',\n",
      "           'source': 'ai_proposal.md'},\n",
      "  'text': 'Thank you for considering this proposal.'},\n",
      " {'meta': {'classification': 'guide',\n",
      "           'finished': 'finished',\n",
      "           'source': 'website_guide.md'},\n",
      "  'text': \"This can improve your website's\"},\n",
      " {'meta': {'classification': 'proposal',\n",
      "           'finished': 'finished',\n",
      "           'source': 'dummy_proposal.md'},\n",
      "  'text': 'Increase revenue and market share through innovative technology '\n",
      "          'solutions.'},\n",
      " {'meta': {'classification': 'guide',\n",
      "           'finished': 'finished',\n",
      "           'source': 'AWSGuide.md'},\n",
      "  'text': '* Use cost optimization tools: Cloud providers offer cost '\n",
      "          'optimization tools that can help you analyze your usage and '\n",
      "          'identify opportunities for cost savings.'}]\n"
     ]
    }
   ],
   "source": [
    "pprint([hit.payload for hit in hits])\n"
   ],
   "metadata": {
    "collapsed": false
   }
  }
 ],
 "metadata": {
  "kernelspec": {
   "display_name": "Python 3",
   "language": "python",
   "name": "python3"
  },
  "language_info": {
   "codemirror_mode": {
    "name": "ipython",
    "version": 2
   },
   "file_extension": ".py",
   "mimetype": "text/x-python",
   "name": "python",
   "nbconvert_exporter": "python",
   "pygments_lexer": "ipython2",
   "version": "2.7.6"
  }
 },
 "nbformat": 4,
 "nbformat_minor": 0
}
