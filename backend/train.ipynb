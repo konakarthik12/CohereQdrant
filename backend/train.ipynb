{
 "cells": [
  {
   "cell_type": "code",
   "execution_count": 50,
   "outputs": [],
   "source": [
    "import os\n",
    "from pprint import pprint\n",
    "\n",
    "import numpy as np\n",
    "from dotenv import load_dotenv\n",
    "from sentence_transformers import SentenceTransformer\n",
    "from tqdm.notebook import tqdm\n",
    "import nltk\n",
    "\n",
    "import json\n",
    "load_dotenv()\n",
    "import cohere"
   ],
   "metadata": {
    "collapsed": false
   }
  },
  {
   "cell_type": "code",
   "execution_count": 51,
   "metadata": {
    "collapsed": true
   },
   "outputs": [
    {
     "name": "stderr",
     "output_type": "stream",
     "text": [
      "[nltk_data] Downloading package punkt to /Users/konak/nltk_data...\n",
      "[nltk_data]   Package punkt is already up-to-date!\n"
     ]
    },
    {
     "data": {
      "text/plain": "True"
     },
     "execution_count": 51,
     "metadata": {},
     "output_type": "execute_result"
    }
   ],
   "source": [
    "nltk.download('punkt')"
   ]
  },
  {
   "cell_type": "markdown",
   "source": [],
   "metadata": {
    "collapsed": false
   }
  },
  {
   "cell_type": "code",
   "execution_count": 52,
   "outputs": [],
   "source": [
    "# model = SentenceTruansformer('all-MiniLM-L6-v2', device=\"cpu\")\n",
    "co = cohere.Client(os.getenv(\"COHERE_API_KEY\"))\n",
    "response = co.embed([\"hello\", \"goodbye\"])\n",
    "# print('Embeddings: {}'.format(response.embeddings))"
   ],
   "metadata": {
    "collapsed": false
   }
  },
  {
   "cell_type": "code",
   "execution_count": 53,
   "outputs": [],
   "source": [
    "data = json.load(open('data.json'))"
   ],
   "metadata": {
    "collapsed": false
   }
  },
  {
   "cell_type": "code",
   "execution_count": 54,
   "outputs": [],
   "source": [],
   "metadata": {
    "collapsed": false
   }
  },
  {
   "cell_type": "code",
   "execution_count": 55,
   "outputs": [
    {
     "name": "stdout",
     "output_type": "stream",
     "text": [
      "124\n",
      "2 64 60\n"
     ]
    }
   ],
   "source": [
    "vectors = []\n",
    "batch_size = 64\n",
    "batch = []\n",
    "print(len(data))\n",
    "for row in data:\n",
    "    batch.append(row['text'])\n",
    "    if len(batch) >= batch_size:\n",
    "        vectors.append(co.embed(batch).embeddings)  # Text -> vector encoding happens here\n",
    "        batch = []\n",
    "\n",
    "if len(batch) > 0:\n",
    "    vectors.append(co.embed(batch).embeddings)\n",
    "    batch = []\n",
    "print(len(vectors), len(vectors[0]), len(vectors[1]))\n",
    "\n",
    "vectors = np.concatenate(vectors)"
   ],
   "metadata": {
    "collapsed": false
   }
  },
  {
   "cell_type": "code",
   "execution_count": 56,
   "outputs": [
    {
     "data": {
      "text/plain": "(124, 4096)"
     },
     "execution_count": 56,
     "metadata": {},
     "output_type": "execute_result"
    }
   ],
   "source": [
    "vectors.shape"
   ],
   "metadata": {
    "collapsed": false
   }
  },
  {
   "cell_type": "code",
   "execution_count": 57,
   "outputs": [],
   "source": [
    "np.save('vectors.npy', vectors, allow_pickle=False)"
   ],
   "metadata": {
    "collapsed": false
   }
  },
  {
   "cell_type": "markdown",
   "source": [
    "# Test Query\n",
    "The answer is\n",
    "  - $ 3 + 5 = 8$\n",
    "  - $ 3 + 4 = 7$\n"
   ],
   "metadata": {
    "collapsed": false
   }
  },
  {
   "cell_type": "code",
   "execution_count": 58,
   "outputs": [],
   "source": [
    "from sklearn.metrics.pairwise import cosine_similarity"
   ],
   "metadata": {
    "collapsed": false
   }
  },
  {
   "cell_type": "code",
   "execution_count": 59,
   "outputs": [
    {
     "name": "stdout",
     "output_type": "stream",
     "text": [
      "lower costs\n"
     ]
    }
   ],
   "source": [
    "# Take a random description as a query\n",
    "sample_query = \"lower costs\"\n",
    "print(sample_query)"
   ],
   "metadata": {
    "collapsed": false
   }
  },
  {
   "cell_type": "code",
   "execution_count": 63,
   "outputs": [],
   "source": [
    "query_vector = co.embed([sample_query]).embeddings[0] # Convert query description into a vector."
   ],
   "metadata": {
    "collapsed": false
   }
  },
  {
   "cell_type": "code",
   "execution_count": 64,
   "outputs": [],
   "source": [
    "scores = cosine_similarity([query_vector], vectors)[0]  # Look for the most similar vectors, manually score all vectors\n",
    "top_scores_ids = np.argsort(scores)[-5:][::-1]  # Select top-5 with vectors the largest scores"
   ],
   "metadata": {
    "collapsed": false
   }
  },
  {
   "cell_type": "code",
   "execution_count": 65,
   "outputs": [
    {
     "name": "stdout",
     "output_type": "stream",
     "text": [
      "{'text': 'By committing to use instances for longer periods, you can reduce costs and get more predictable pricing.', 'meta': {'source': 'AWSGuide.md'}}\n",
      "-----\n",
      "{'text': 'The operating expenses for the quarter were $6 million, which are more than last year.', 'meta': {'source': 'quarterly.md'}}\n",
      "-----\n",
      "{'text': 'You can then make adjustments, such as reducing the number of virtual machines running or resizing instances, to optimize resource usage and minimize costs.', 'meta': {'source': 'AWSGuide.md'}}\n",
      "-----\n",
      "{'text': 'Also, make sure to review and optimize data transfer costs, especially for large file transfers or for data transfer between different regions or providers.', 'meta': {'source': 'AWSGuide.md'}}\n",
      "-----\n",
      "{'text': '## Response:\\nIn an effort to cut costs we’ve made the decision to reduce headcount.', 'meta': {'source': 'quarterly.md'}}\n",
      "-----\n"
     ]
    }
   ],
   "source": [
    "# Check if result similar to the query\n",
    "for top_id in top_scores_ids:\n",
    "    print(data[top_id])\n",
    "    # print(df.iloc[top_id].description)\n",
    "    print(\"-----\")\n"
   ],
   "metadata": {
    "collapsed": false
   }
  }
 ],
 "metadata": {
  "kernelspec": {
   "display_name": "Python 3",
   "language": "python",
   "name": "python3"
  },
  "language_info": {
   "codemirror_mode": {
    "name": "ipython",
    "version": 2
   },
   "file_extension": ".py",
   "mimetype": "text/x-python",
   "name": "python",
   "nbconvert_exporter": "python",
   "pygments_lexer": "ipython2",
   "version": "2.7.6"
  }
 },
 "nbformat": 4,
 "nbformat_minor": 0
}
