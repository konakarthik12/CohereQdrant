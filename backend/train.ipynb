{
 "cells": [
  {
   "cell_type": "code",
   "execution_count": 1,
   "outputs": [
    {
     "data": {
      "text/plain": "True"
     },
     "execution_count": 1,
     "metadata": {},
     "output_type": "execute_result"
    }
   ],
   "source": [
    "from dotenv import load_dotenv\n",
    "from pprint import pprint\n",
    "import os\n",
    "from sentence_transformers import SentenceTransformer\n",
    "from qdrant_client import QdrantClient\n",
    "load_dotenv()"
   ],
   "metadata": {
    "collapsed": false
   }
  },
  {
   "cell_type": "code",
   "execution_count": 2,
   "metadata": {
    "collapsed": true
   },
   "outputs": [
    {
     "name": "stdout",
     "output_type": "stream",
     "text": [
      "https://2e366342-0e12-4f7e-8772-cc72f8f39464.us-east-1-0.aws.cloud.qdrant.io:6333 nbpdkQEEHRK5s9K2WzznUqU5ZKyv2bCAEl9mAlleangh5UcQzsXFzA\n",
      "client loaded\n",
      "model loaded\n",
      "[{'alt': 'Textingly -  messaging',\n",
      "  'city': 'New York',\n",
      "  'description': '',\n",
      "  'images': 'https://d1qb2nb5cznatu.cloudfront.net/startups/i/454680-47b00c79c354862727821f5706736fa8-thumb_jpg.jpg?buster=1407338693',\n",
      "  'link': 'http://texting.ly',\n",
      "  'name': 'Textingly'},\n",
      " {'alt': 'MessageOne -  messaging',\n",
      "  'city': 'Austin',\n",
      "  'description': '',\n",
      "  'images': 'https://d1qb2nb5cznatu.cloudfront.net/startups/i/34420-fb770dfa9b6626c922fb2af5e1b731df-thumb_jpg.jpg?buster=1326844452',\n",
      "  'link': 'null',\n",
      "  'name': 'MessageOne'},\n",
      " {'alt': 'SimulScribe -  messaging',\n",
      "  'city': 'New York',\n",
      "  'description': '',\n",
      "  'images': 'https://d1qb2nb5cznatu.cloudfront.net/startups/i/462408-8da2aaa41d80f439902f02c94f832ec5-thumb_jpg.jpg?buster=1408030041',\n",
      "  'link': 'http://www.simulscribe.com/index.html',\n",
      "  'name': 'SimulScribe'},\n",
      " {'alt': 'Send Word Now -  messaging',\n",
      "  'city': 'New York',\n",
      "  'description': '',\n",
      "  'images': 'https://d1qb2nb5cznatu.cloudfront.net/startups/i/137854-c1dd441fa2c7294a1288919ef3831dde-thumb_jpg.jpg?buster=1407252726',\n",
      "  'link': 'http://www.sendwordnow.com',\n",
      "  'name': 'Send Word Now'},\n",
      " {'alt': 'Scalix -  messaging',\n",
      "  'city': 'New York',\n",
      "  'description': '',\n",
      "  'images': 'https://d1qb2nb5cznatu.cloudfront.net/startups/i/47943-5f0518a6ead7a7c40ae8b9b1b050ead5-thumb_jpg.jpg?buster=1407857314',\n",
      "  'link': 'http://www.scalix.com/',\n",
      "  'name': 'Scalix'}]\n",
      "done\n"
     ]
    }
   ],
   "source": [
    "print(os.getenv(\"QDRANT_URL\"), os.getenv(\"QDRANT_API_KEY\"))\n",
    "qdrant_client = QdrantClient(url=os.getenv(\"QDRANT_URL\"), api_key=os.getenv(\"QDRANT_API_KEY\"))\n",
    "print(\"client loaded\")\n",
    "model = SentenceTransformer('distilbert-base-nli-stsb-mean-tokens', device='cpu')\n",
    "print(\"model loaded\")\n",
    "vector = model.encode(\"text\").tolist()\n",
    "hits = qdrant_client.search(\n",
    "    collection_name=\"startups\",\n",
    "    query_vector=vector,\n",
    "    limit=5\n",
    ")\n",
    "pprint([hit.payload for hit in hits])\n",
    "print(\"done\")"
   ]
  }
 ],
 "metadata": {
  "kernelspec": {
   "display_name": "Python 3",
   "language": "python",
   "name": "python3"
  },
  "language_info": {
   "codemirror_mode": {
    "name": "ipython",
    "version": 2
   },
   "file_extension": ".py",
   "mimetype": "text/x-python",
   "name": "python",
   "nbconvert_exporter": "python",
   "pygments_lexer": "ipython2",
   "version": "2.7.6"
  }
 },
 "nbformat": 4,
 "nbformat_minor": 0
}
