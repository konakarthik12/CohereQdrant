{
 "cells": [
  {
   "cell_type": "code",
   "execution_count": 4,
   "metadata": {
    "collapsed": true
   },
   "outputs": [
    {
     "data": {
      "text/plain": "True"
     },
     "execution_count": 4,
     "metadata": {},
     "output_type": "execute_result"
    }
   ],
   "source": [
    "import cohere\n",
    "import os\n",
    "import json\n",
    "from pprint import pprint\n",
    "\n",
    "from dotenv import load_dotenv\n",
    "import os\n",
    "\n",
    "load_dotenv()"
   ]
  },
  {
   "cell_type": "code",
   "execution_count": 5,
   "outputs": [
    {
     "name": "stdout",
     "output_type": "stream",
     "text": [
      "18 16\n",
      "Name palantir.md\n",
      "Classification unfinished\n",
      "\n",
      "Name RestAPI.md\n",
      "Classification finished\n",
      "\n",
      "Name quarterly.md\n",
      "Classification finished\n",
      "\n",
      "Name test_incomplete.md\n",
      "Classification finished\n",
      "\n",
      "Name weekly_memo.md\n",
      "Classification finished\n",
      "\n",
      "Name JavaToKotlin.md\n",
      "Classification finished\n",
      "\n",
      "Name AWSGuide.md\n",
      "Classification finished\n",
      "\n",
      "Name website_guide.md\n",
      "Classification finished\n",
      "\n",
      "Name dummy_proposal.md\n",
      "Classification finished\n",
      "\n",
      "Name snacks.md\n",
      "Classification unfinished\n",
      "\n",
      "Name stretch.md\n",
      "Classification unfinished\n",
      "\n",
      "Name test_proposal.md\n",
      "Classification finished\n",
      "\n",
      "Name ActionsToJenkins.md\n",
      "Classification finished\n",
      "\n",
      "Name java.md\n",
      "Classification unfinished\n",
      "\n",
      "Name AIGuide.md\n",
      "Classification finished\n",
      "\n",
      "Name InhouseToAWS.md\n",
      "Classification finished\n",
      "\n",
      "Name Remote.md\n",
      "Classification finished\n",
      "\n",
      "Name ai_proposal.md\n",
      "Classification finished\n",
      "\n"
     ]
    }
   ],
   "source": [
    "\n",
    "co = cohere.Client(os.getenv('COHERE_API_KEY'))\n",
    "\n",
    "examples = []\n",
    "inputs = []\n",
    "\n",
    "with open('../documents/status.json') as f:\n",
    "    data = json.load(f)\n",
    "    for file in os.listdir('../documents'):\n",
    "        if file.endswith('.md') and file in data:\n",
    "            with open('../documents/' + file) as example:\n",
    "                examples.append(cohere.responses.classify.Example(example.read(), data[file]))\n",
    "\n",
    "file_list = []\n",
    "input_list = []\n",
    "\n",
    "for file in os.listdir('../documents'):\n",
    "    if file.endswith('.md'):\n",
    "        with open('../documents/' + file) as example:\n",
    "            inputs.append({\"name\": file, \"data\": example.read()})\n",
    "\n",
    "print(len(inputs), len(examples))\n",
    "\n",
    "response = co.classify(\n",
    "    model='large',\n",
    "    inputs=list(map(lambda x: x['data'], inputs)),\n",
    "    examples=examples\n",
    ")\n",
    "doc_map = {}\n",
    "for idx, document in enumerate(inputs):\n",
    "    print('Name', document['name'])\n",
    "    doc_map[document['name']] = response.classifications[idx].prediction\n",
    "    print('Classification', response.classifications[idx].prediction)\n",
    "    print('')\n",
    "\n"
   ],
   "metadata": {
    "collapsed": false
   }
  },
  {
   "cell_type": "code",
   "execution_count": 6,
   "outputs": [],
   "source": [
    "with open('data.json', 'r+') as f:\n",
    "    data = json.load(f)\n",
    "    for item in data:\n",
    "        if item['meta']['source'] in doc_map:\n",
    "            item['meta']['finished'] = doc_map[item['meta']['source']]\n",
    "\n",
    "    f.seek(0)\n",
    "    json.dump(data, f)\n",
    "    f.truncate()\n"
   ],
   "metadata": {
    "collapsed": false
   }
  }
 ],
 "metadata": {
  "kernelspec": {
   "display_name": "Python 3",
   "language": "python",
   "name": "python3"
  },
  "language_info": {
   "codemirror_mode": {
    "name": "ipython",
    "version": 2
   },
   "file_extension": ".py",
   "mimetype": "text/x-python",
   "name": "python",
   "nbconvert_exporter": "python",
   "pygments_lexer": "ipython2",
   "version": "2.7.6"
  }
 },
 "nbformat": 4,
 "nbformat_minor": 0
}
